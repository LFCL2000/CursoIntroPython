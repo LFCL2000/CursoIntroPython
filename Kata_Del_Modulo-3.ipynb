{
 "cells": [
  {
   "cell_type": "markdown",
   "metadata": {},
   "source": [
    "## Ejercicio - Escribir declaraciones if, else, y elif\n",
    "\n",
    "Para este ejercicio, escribirás una lógica condicional que imprima una advertencia si un asteroide se acerca a la Tierra demasiado rápido. La velocidad del asteroide varía dependiendo de lo cerca que esté del sol, y cualquier velocidad superior a 25 kilómetros por segundo (km/s) merece una advertencia.\n",
    "\n",
    "Un asteroide se acerca, y viaja a una velocidad de 49 km/s.\n",
    "Si un asteroide entra en la atmósfera de la Tierra a una velocidad mayor o igual a 20 km/s, a veces produce un rayo de luz que se puede ver desde la Tierra. Escribe la lógica condicional que usa declaraciones if, else, y elif para alertar a las personas de todo el mundo que deben buscar un asteroide en el cielo. ¡Hay uno que se dirige a la tierra ahora a una velocidad de 19 km/s!"
   ]
  },
  {
   "cell_type": "code",
   "execution_count": 10,
   "metadata": {},
   "outputs": [
    {
     "name": "stdout",
     "output_type": "stream",
     "text": [
      "Advertencia, peligro Impacto de Asteroide inminente\n"
     ]
    }
   ],
   "source": [
    "Velocidadasteroide = 49\n",
    "\n",
    "if Velocidadasteroide > 25:\n",
    "    print(\"Advertencia, peligro Impacto de Asteroide inminente\")\n",
    "else:\n",
    "    print(\"No hay peligro detectado\")"
   ]
  },
  {
   "cell_type": "markdown",
   "metadata": {},
   "source": [
    "Si un asteroide entra en la atmósfera de la Tierra a una velocidad mayor o igual a 20 km/s, a veces produce un rayo de luz que se puede ver desde la Tierra. Escribe la lógica condicional que usa declaraciones if, else, y elif para alertar a las personas de todo el mundo que deben buscar un asteroide en el cielo. ¡Hay uno que se dirige a la tierra ahora a una velocidad de 19 km/s!"
   ]
  },
  {
   "cell_type": "code",
   "execution_count": 11,
   "metadata": {},
   "outputs": [
    {
     "name": "stdout",
     "output_type": "stream",
     "text": [
      "...En otras noticias, se reportan ciertos avistamientos de rayos de luz, que confirman el aproximamiento de un asteroide a la tierra, volvemos contigo Joaquin...\n"
     ]
    }
   ],
   "source": [
    "\n",
    "Velocidadasteroide = 20\n",
    "\n",
    "if Velocidadasteroide > 20:\n",
    "    print(\"...En otras noticias, se reporta el inminente impacto de un asteroide contra la tierra que pone en peligro nuestra vida,...\")\n",
    "elif Velocidadasteroide == 20:\n",
    "    print(\"...En otras noticias, se reportan ciertos avistamientos de rayos de luz, que confirman el aproximamiento de un asteroide a la tierra, volvemos contigo Joaquin...\")\n",
    "else:\n",
    "    print(\"...En otras noticias, no se han reportado ningun avistamiento de asteroides desde hace tiempo...\")"
   ]
  },
  {
   "cell_type": "markdown",
   "metadata": {},
   "source": [
    "## Ejercicio: Uso de operadores and y or\n",
    "En este ejercicio, aprenderás información más matizada sobre cuándo los asteroides representan un peligro para la Tierra, y utilizarás esa información para mejorar nuestro sistema de advertencia. Aquí está la nueva información que necesitas saber:\n",
    "\n",
    "*Los asteroides de menos de 25 metros en su dimensión más grande probablemente se quemarán a medida que entren en la atmósfera de la Tierra.\n",
    "\n",
    "Si una pieza de un asteroide que es más grande que 25 metros pero más pequeña que 1000 metros golpeara la Tierra, causaría mucho daño.\n",
    "También discutimos en el ejercicio anterior que:\n",
    "\n",
    "La velocidad del asteroide varía en función de lo cerca que esté del sol, y cualquier velocidad superior a 25 kilómetros por segundo (km/s) merece una advertencia.\n",
    "Si un asteroide entra en la atmósfera de la Tierra a una velocidad mayor o igual a 20 km/s, a veces produce un rayo de luz que se puede ver desde la Tierra."
   ]
  },
  {
   "cell_type": "code",
   "execution_count": 12,
   "metadata": {},
   "outputs": [
    {
     "name": "stdout",
     "output_type": "stream",
     "text": [
      "Advertencia, peligro Impacto de Asteroide inminente!!!!!!!!\n"
     ]
    }
   ],
   "source": [
    "\n",
    "Velocidadasteroide = 30\n",
    "\n",
    "tamanoAsteroide = 26\n",
    "\n",
    "if tamanoAsteroide > 25 and Velocidadasteroide > 20:\n",
    "    print(\"Advertencia, peligro Impacto de Asteroide inminente!!!!!!!!\")\n",
    "elif Velocidadasteroide == 20:\n",
    "    print(\"...En otras noticias, se reportan ciertos avistamientos de rayos de luz, que confirman el aproximamiento de un asteroide a la tierra...\")\n",
    "elif tamanoAsteroide < 25:\n",
    "    print(\"...En otras noticias, no se han reportado ningun avistamiento de asteroides desde hace tiempo...\")\n",
    "else :\n",
    "    print(\"...En otras noticias, no se han reportado ningun avistamiento de asteroides desde hace tiempo...\")"
   ]
  }
 ],
 "metadata": {
  "interpreter": {
   "hash": "f2d9ef6cec73806daafc65ac9c633a75df5197692ddc6d08016b8e79c195fe94"
  },
  "kernelspec": {
   "display_name": "Python 3.10.2 64-bit",
   "language": "python",
   "name": "python3"
  },
  "language_info": {
   "codemirror_mode": {
    "name": "ipython",
    "version": 3
   },
   "file_extension": ".py",
   "mimetype": "text/x-python",
   "name": "python",
   "nbconvert_exporter": "python",
   "pygments_lexer": "ipython3",
   "version": "3.10.2"
  },
  "orig_nbformat": 4
 },
 "nbformat": 4,
 "nbformat_minor": 2
}
