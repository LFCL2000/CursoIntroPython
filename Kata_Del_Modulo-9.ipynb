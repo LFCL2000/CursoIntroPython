{
 "cells": [
  {
   "cell_type": "markdown",
   "metadata": {},
   "source": [
    "## Ejercicio: Uso de funciones en Python\n",
    "## Ejercicio 1: Trabajar con argumentos en funciones\n",
    "Los argumentos requeridos en las funciones se utilizan cuando las funciones necesitan que esos argumentos funcionen correctamente. En este ejercicio, construirás un informe de combustible que requiere información de varias ubicaciones de combustible en todo el cohete."
   ]
  },
  {
   "cell_type": "code",
   "execution_count": 10,
   "metadata": {},
   "outputs": [],
   "source": [
    "def generar_reporte(tanqueprincipal, tanqueexterno, tanquehidrogeno):\n",
    "    promediototal = (tanqueprincipal + tanqueexterno + tanquehidrogeno)/3\n",
    "    return f'''Reporte de Gasolina:\n",
    "    Promedio de Gasolina: {promediototal}%\n",
    "    Tanque Principal: {tanqueprincipal}%\n",
    "    Tanque Externo: {tanqueexterno}%\n",
    "    Tanque De Hidrogeno: {tanquehidrogeno}%\n",
    "    '''"
   ]
  },
  {
   "cell_type": "markdown",
   "metadata": {},
   "source": [
    "Ahora que hemos definido la función de informes, vamos a comprobarlo. Para esta misión, los tanques no están llenos:"
   ]
  },
  {
   "cell_type": "code",
   "execution_count": 11,
   "metadata": {},
   "outputs": [
    {
     "name": "stdout",
     "output_type": "stream",
     "text": [
      "Reporte de Gasolina:\n",
      "    Promedio de Gasolina: 46.666666666666664%\n",
      "    Tanque Principal: 50%\n",
      "    Tanque Externo: 10%\n",
      "    Tanque De Hidrogeno: 80%\n",
      "    \n"
     ]
    }
   ],
   "source": [
    "print(generar_reporte(50, 10, 80))"
   ]
  },
  {
   "cell_type": "markdown",
   "metadata": {},
   "source": [
    "La función es problemática porque no se puede adaptar para minutos adicionales o tanques adicionales de combustible. Hazlo más flexible permitiendo cualquier número de pasos basados en el tiempo y cualquier número de tanques. En lugar de usar *args y **kwargs, aprovecha el hecho de que puedes usar cualquier nombre que desees. Asegurate que la función sea más legible mediante el uso de nombres de variables que están asociados con las entradas, como *minutes y **fuel_reservoirs:"
   ]
  },
  {
   "cell_type": "code",
   "execution_count": 12,
   "metadata": {},
   "outputs": [],
   "source": [
    "def promediogasolina(valores):\n",
    "    suma = sum(valores)\n",
    "    numerodeconceptos = len(valores)\n",
    "    return suma/numerodeconceptos"
   ]
  },
  {
   "cell_type": "markdown",
   "metadata": {},
   "source": [
    "Debido a que el combustible que queda en los tanques es específico de cada tanque, actualiza la función para usar el nombre de cada tanque en el informe:"
   ]
  },
  {
   "cell_type": "code",
   "execution_count": 13,
   "metadata": {},
   "outputs": [
    {
     "name": "stdout",
     "output_type": "stream",
     "text": [
      "Reporte de Gasolina:\n",
      "    Promedio de Gasolina: 60.0%\n",
      "    Tanque Principal: 50%\n",
      "    Tanque Externo: 10%\n",
      "    Tanque De Hidrogeno: 80%\n",
      "    Tanque De Oxigeno: 100%\n",
      "    \n"
     ]
    }
   ],
   "source": [
    "def generar_reporte(tanqueprincipal, tanqueexterno, tanquehidrogeno, tanqueoxigeno):\n",
    "    return f'''Reporte de Gasolina:\n",
    "    Promedio de Gasolina: {promediogasolina([tanqueprincipal, tanquehidrogeno, tanqueexterno, tanqueoxigeno])}%\n",
    "    Tanque Principal: {tanqueprincipal}%\n",
    "    Tanque Externo: {tanqueexterno}%\n",
    "    Tanque De Hidrogeno: {tanquehidrogeno}%\n",
    "    Tanque De Oxigeno: {tanqueoxigeno}%\n",
    "    '''\n",
    "print(generar_reporte(50, 10, 80, 100))"
   ]
  },
  {
   "cell_type": "markdown",
   "metadata": {},
   "source": [
    "## Ejercicio 2: Trabajo con argumentos de palabra clave\n",
    "## Ejercicio : Trabajar con argumentos de palabras clave en funciones\n",
    "En este ejercicio, construirás un informe de cohete que requiere varias piezas de información, como el tiempo hasta el destino, el combustible a la izquierda y el nombre del destino. Comienza por crear una función que creará un informe preciso de la misión:"
   ]
  },
  {
   "cell_type": "code",
   "execution_count": 14,
   "metadata": {},
   "outputs": [
    {
     "name": "stdout",
     "output_type": "stream",
     "text": [
      " Reporte de Cohete:\n",
      "    Hora del Pre-lanzamiento: 10\n",
      "    Tiempo De Vuelo: 5\n",
      "    Destino: Marte\n",
      "    Energia del Tanque externo: 32000 lts\n",
      "    Energia del tanque interno: 12000 lts\n",
      "    \n"
     ]
    }
   ],
   "source": [
    "def generar_reporte_cohete(HoraPrelanzamiento, tiempovuelo, destino, tanqueexterno, tanqueinterno):\n",
    "\n",
    "    return f''' Reporte de Cohete:\n",
    "    Hora del Pre-lanzamiento: {HoraPrelanzamiento}\n",
    "    Tiempo De Vuelo: {tiempovuelo}\n",
    "    Destino: {destino}\n",
    "    Energia del Tanque externo: {tanqueexterno} lts\n",
    "    Energia del tanque interno: {tanqueinterno} lts\n",
    "    '''\n",
    "\n",
    "print(generar_reporte_cohete(10, 5, \"Marte\", 32000, 12000))    "
   ]
  },
  {
   "cell_type": "markdown",
   "metadata": {},
   "source": [
    "La función es problemática porque no se puede adaptar para minutos adicionales o tanques adicionales de combustible. Hazlo más flexible permitiendo cualquier número de pasos basados en el tiempo y cualquier número de tanques. En lugar de usar *args y **kwargs, aprovecha el hecho de que puedes usar cualquier nombre que desees. Asegurate que la función sea más legible mediante el uso de nombres de variables que están asociados con las entradas, como *minutes y **fuel_reservoirs:"
   ]
  },
  {
   "cell_type": "code",
   "execution_count": 15,
   "metadata": {},
   "outputs": [
    {
     "name": "stdout",
     "output_type": "stream",
     "text": [
      " Reporte de Cohete:\n",
      "    Destino: Marte\n",
      "    Tiempo de Vuelo Total: 15 min\n",
      "    Energia total de los tanques: 44000 lts\n",
      "    \n"
     ]
    }
   ],
   "source": [
    "def generar_reporte_cohete_v2( destino, *minutos, **tanquetotal):\n",
    "\n",
    "    return f''' Reporte de Cohete:\n",
    "    Destino: {destino}\n",
    "    Tiempo de Vuelo Total: {sum(minutos)} min\n",
    "    Energia total de los tanques: {sum(tanquetotal.values())} lts\n",
    "    '''\n",
    "\n",
    "print(generar_reporte_cohete_v2(\"Marte\" ,10, 5, externo = 32000, interno = 12000))"
   ]
  },
  {
   "cell_type": "markdown",
   "metadata": {},
   "source": [
    "Debido a que el combustible que queda en los tanques es específico de cada tanque, actualiza la función para usar el nombre de cada tanque en el informe:"
   ]
  },
  {
   "cell_type": "code",
   "execution_count": 31,
   "metadata": {},
   "outputs": [
    {
     "name": "stdout",
     "output_type": "stream",
     "text": [
      " Reporte de Cohete:\n",
      "    Destino: Marte\n",
      "    Tiempo de Vuelo Total: 15 min\n",
      "    Energia total de los tanques: 94000 galones\n",
      "    -----------------------------------------------------------------------------\n",
      "    Energia de cada tanque:\n",
      "    externo tanque = 32000 galones restantes\n",
      "interno tanque = 12000 galones restantes\n",
      "Motor_Izquierdo tanque = 50000 galones restantes\n",
      "\n"
     ]
    }
   ],
   "source": [
    "def generar_reporte_cohete_v2( destino, *minutos, **tanquetotal):\n",
    "\n",
    "    reporte_principal = f''' Reporte de Cohete:\n",
    "    Destino: {destino}\n",
    "    Tiempo de Vuelo Total: {sum(minutos)} min\n",
    "    Energia total de los tanques: {sum(tanquetotal.values())} galones\n",
    "    -----------------------------------------------------------------------------\n",
    "    Energia de cada tanque:\n",
    "    '''\n",
    "    for nombretanque, galones in tanquetotal.items():\n",
    "        reporte_principal += f\"{nombretanque} tanque = {galones} galones restantes\\n\"\n",
    "    return reporte_principal\n",
    "\n",
    "print(generar_reporte_cohete_v2(\"Marte\" ,10, 5, externo = 32000, interno = 12000, Motor_Izquierdo = 50000))"
   ]
  }
 ],
 "metadata": {
  "interpreter": {
   "hash": "f2d9ef6cec73806daafc65ac9c633a75df5197692ddc6d08016b8e79c195fe94"
  },
  "kernelspec": {
   "display_name": "Python 3.10.2 64-bit",
   "language": "python",
   "name": "python3"
  },
  "language_info": {
   "codemirror_mode": {
    "name": "ipython",
    "version": 3
   },
   "file_extension": ".py",
   "mimetype": "text/x-python",
   "name": "python",
   "nbconvert_exporter": "python",
   "pygments_lexer": "ipython3",
   "version": "3.10.2"
  },
  "orig_nbformat": 4
 },
 "nbformat": 4,
 "nbformat_minor": 2
}
